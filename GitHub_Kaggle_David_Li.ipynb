{
  "nbformat": 4,
  "nbformat_minor": 0,
  "metadata": {
    "colab": {
      "provenance": [],
      "gpuType": "T4"
    },
    "kernelspec": {
      "name": "python3",
      "display_name": "Python 3"
    },
    "language_info": {
      "name": "python"
    },
    "accelerator": "GPU",
    "gpuClass": "standard"
  },
  "cells": [
    {
      "cell_type": "markdown",
      "source": [
        "### **Load the Data**"
      ],
      "metadata": {
        "id": "lwnjXjk4B41V"
      }
    },
    {
      "cell_type": "code",
      "metadata": {
        "id": "4WRff5x-3TYI"
      },
      "source": [
        "# This cell is necessary only if you are running on Google Colab. It downloads the files to your\n",
        "# Colab instance so you don't have to upload them here.\n",
        "\n",
        "import requests\n",
        "\n",
        "def save_file(url, file_name):\n",
        "    r = requests.get(url)\n",
        "    with open(file_name, 'wb') as f:\n",
        "      f.write(r.content)\n",
        "\n",
        "save_file('https://courses.cs.washington.edu/courses/cse416/23sp/homeworks/hw5/edx_train.csv',\n",
        "          'edx_train.csv')\n",
        "save_file('https://courses.cs.washington.edu/courses/cse416/23sp/homeworks/hw5/edx_test.csv',\n",
        "          'edx_test.csv')"
      ],
      "execution_count": 1,
      "outputs": []
    },
    {
      "cell_type": "code",
      "source": [
        "import pandas as pd\n",
        "\n",
        "df_train = pd.read_csv('edx_train.csv')\n",
        "df_test = pd.read_csv('edx_test.csv')"
      ],
      "metadata": {
        "id": "W1vMUKAVeDWK"
      },
      "execution_count": null,
      "outputs": []
    },
    {
      "cell_type": "markdown",
      "source": [
        "### **Model Comparison**\n",
        "\n",
        "**Instructions**: Run at least 2 different classification models. The classification models we have learned in class are: [Logistic Regression](https://scikit-learn.org/stable/modules/generated/sklearn.linear_model.LogisticRegression.html), [k-Nearest Neighbors](https://scikit-learn.org/stable/modules/generated/sklearn.neighbors.KNeighborsClassifier.html), [Decision Trees](https://scikit-learn.org/stable/modules/generated/sklearn.tree.DecisionTreeClassifier.html), [Random Forests](https://scikit-learn.org/stable/modules/generated/sklearn.ensemble.RandomForestClassifier.html), and [AdaBoost](https://scikit-learn.org/stable/modules/generated/sklearn.ensemble.AdaBoostClassifier.html), [Neural Networks](https://scikit-learn.org/stable/modules/neural_networks_supervised.html). For each model, try at least 2 different hyperparameter settings.\n",
        "\n",
        "Then, make one or more visualizations that let you compare the models you trained. Sample visualizations you can make include confusion matrices, or graphs of train and validation accuracy/error. See past section and homework code for how to make these visualizations."
      ],
      "metadata": {
        "id": "r4Sv5DRBOJ_Q"
      }
    },
    {
      "cell_type": "code",
      "source": [
        "import numpy as np\n",
        "import matplotlib.pyplot as plt\n",
        "import pandas as pd\n",
        "from datetime import datetime\n",
        "from sklearn.preprocessing import StandardScaler\n",
        "from sklearn.preprocessing import PowerTransformer\n",
        "from sklearn.model_selection import GridSearchCV\n",
        "from sklearn.ensemble import AdaBoostClassifier\n",
        "from sklearn.ensemble import RandomForestClassifier\n",
        "from sklearn.neighbors import KNeighborsClassifier"
      ],
      "metadata": {
        "id": "6IuN0LYPMT7V"
      },
      "execution_count": null,
      "outputs": []
    },
    {
      "cell_type": "markdown",
      "source": [
        "## **Data Cleaning & Feature Engineering**"
      ],
      "metadata": {
        "id": "abgV6siYHfRE"
      }
    },
    {
      "cell_type": "code",
      "source": [
        "target = \"certified\"\n",
        "features = ['viewed','explored','nevents','ndays_act','nplay_video','nchapters','nforum_posts','education',\n",
        "            'male','female','other','interacted', 'duration',\n",
        "            'cs','cb','er','ph1','ph2']\n",
        "missing = ['ndays_act','nplay_video','nchapters','duration'] # features that require imputation & scaling"
      ],
      "metadata": {
        "id": "uzKnarJ475Gv"
      },
      "execution_count": null,
      "outputs": []
    },
    {
      "cell_type": "code",
      "source": [
        "# fill in missing values\n",
        "df_train['nevents'] = df_train['nevents'].fillna(0)\n",
        "df_test['nevents'] = df_test['nevents'].fillna(0)\n",
        "\n",
        "\n",
        "df_train['gender'] = df_train['gender'].fillna('o')\n",
        "df_test['gender'] = df_test['gender'].fillna('o')\n",
        "\n",
        "df_train['LoE_DI'] = df_train['LoE_DI'].fillna('Missing')\n",
        "df_test['LoE_DI'] = df_test['LoE_DI'].fillna('Missing')"
      ],
      "metadata": {
        "id": "JiIZzHsg8FwA"
      },
      "execution_count": null,
      "outputs": []
    },
    {
      "cell_type": "code",
      "source": [
        "# create new column called 'education' with categorical encoding of 'LoE_DI'\n",
        "encoding_map = {'Missing': 0, 'Less than Secondary': 1, 'Secondary': 2, 'Bachelor\\'s': 3, 'Master\\'s' : 4, 'Doctorate' : 5}\n",
        "df_train['education'] = df_train['LoE_DI'].replace(encoding_map)\n",
        "df_test['education'] = df_test['LoE_DI'].replace(encoding_map)"
      ],
      "metadata": {
        "id": "ohQ6ROBrnb8R"
      },
      "execution_count": null,
      "outputs": []
    },
    {
      "cell_type": "code",
      "source": [
        "# create new feature 'interacted'\n",
        "def fill_interacted(df):\n",
        "  for index, row in df.iterrows():\n",
        "    if df.loc[index, 'nevents'] == 0:\n",
        "      df.loc[index, missing] = 0\n",
        "      df.loc[index, 'interacted'] = 0\n",
        "    else:\n",
        "      df.loc[index, 'interacted'] = 1\n",
        "\n",
        "# one-hot-encoding for gender\n",
        "def one_hot_gender(df):\n",
        "  for index, row in df.iterrows():\n",
        "    if df.loc[index, 'gender'] == 'm':\n",
        "      df.loc[index, 'male'] = 1\n",
        "      df.loc[index, 'female'] = 0\n",
        "      df.loc[index, 'other'] = 0\n",
        "    elif df.loc[index, 'gender'] == 'f':\n",
        "      df.loc[index, 'male'] = 0\n",
        "      df.loc[index, 'female'] = 1\n",
        "      df.loc[index, 'other'] = 0\n",
        "    else:\n",
        "      df.loc[index, 'male'] = 0\n",
        "      df.loc[index, 'female'] = 0\n",
        "      df.loc[index, 'other'] = 1\n",
        "\n",
        "# impute values using mean of column\n",
        "def fill_missing(df, scaler_means):\n",
        "  for index, row in df.iterrows():\n",
        "    if pd.isna(row['ndays_act']):\n",
        "      df.loc[index, 'ndays_act'] = scaler_means[0]\n",
        "    if pd.isna(row['nplay_video']):\n",
        "      df.loc[index, 'nplay_video'] = scaler_means[1]\n",
        "    if pd.isna(row['nchapters']):\n",
        "      df.loc[index, 'nchapters'] = scaler_means[2]\n",
        "\n",
        "# create new feature 'duration'\n",
        "def fill_duration(df):\n",
        "  for index, row in df.iterrows():\n",
        "    if pd.isna(row['last_event_DI']):\n",
        "      df.loc[index, 'duration'] = 0\n",
        "    else:\n",
        "      start = datetime.strptime(row['start_time_DI'], '%x').date()\n",
        "      end = datetime.strptime(row['last_event_DI'], '%x').date()\n",
        "      df.loc[index, 'duration'] = (end-start).days\n",
        "\n",
        "# one-hot encoding for course_id\n",
        "def one_hot_class(df):\n",
        "  for index, row in df.iterrows():\n",
        "    course = df.loc[index, 'course_id'][9:13]\n",
        "    if course == 'CS50':\n",
        "      df.loc[index, 'cs'] = 1\n",
        "      df.loc[index, 'cb'] = 0\n",
        "      df.loc[index, 'er'] = 0\n",
        "      df.loc[index, 'ph1'] = 0\n",
        "      df.loc[index, 'ph2'] = 0\n",
        "    elif course == 'CB22':\n",
        "      df.loc[index, 'cs'] = 0\n",
        "      df.loc[index, 'cb'] = 1\n",
        "      df.loc[index, 'er'] = 0\n",
        "      df.loc[index, 'ph1'] = 0\n",
        "      df.loc[index, 'ph2'] = 0\n",
        "    elif course == 'ER22':\n",
        "      df.loc[index, 'cs'] = 0\n",
        "      df.loc[index, 'cb'] = 0\n",
        "      df.loc[index, 'er'] = 1\n",
        "      df.loc[index, 'ph1'] = 0\n",
        "      df.loc[index, 'ph2'] = 0\n",
        "    elif course == 'PH20':\n",
        "      df.loc[index, 'cs'] = 0\n",
        "      df.loc[index, 'cb'] = 0\n",
        "      df.loc[index, 'er'] = 0\n",
        "      df.loc[index, 'ph1'] = 1\n",
        "      df.loc[index, 'ph2'] = 0\n",
        "    else:\n",
        "      df.loc[index, 'cs'] = 0\n",
        "      df.loc[index, 'cb'] = 0\n",
        "      df.loc[index, 'er'] = 0\n",
        "      df.loc[index, 'ph1'] = 0\n",
        "      df.loc[index, 'ph2'] = 1"
      ],
      "metadata": {
        "id": "J65CkGS9kD1C"
      },
      "execution_count": null,
      "outputs": []
    },
    {
      "cell_type": "code",
      "source": [
        "fill_interacted(df_train)\n",
        "fill_interacted(df_test)\n",
        "\n",
        "one_hot_gender(df_train)\n",
        "one_hot_gender(df_test)\n",
        "\n",
        "fill_duration(df_train)\n",
        "fill_duration(df_test)\n",
        "\n",
        "one_hot_class(df_train)\n",
        "one_hot_class(df_test)"
      ],
      "metadata": {
        "id": "JtUmKU2qlKB8"
      },
      "execution_count": null,
      "outputs": []
    },
    {
      "cell_type": "code",
      "source": [
        "pt = PowerTransformer().fit(df_train[missing]) # apply transform to make features more normal\n",
        "pt.transform(df_train[missing])\n",
        "pt.transform(df_test[missing])\n",
        "\n",
        "scaler = StandardScaler().fit(df_train[missing]) # scale features to have mean 0 variance 1\n",
        "fill_missing(df_train, scaler.mean_)\n",
        "fill_missing(df_test, scaler.mean_)"
      ],
      "metadata": {
        "id": "C8cIFC2w2g4X"
      },
      "execution_count": null,
      "outputs": []
    },
    {
      "cell_type": "code",
      "source": [
        "# ADABoost Model\n",
        "\n",
        "hparams = {'n_estimators': [50, 100, 150, 200, 250, 300, 350, 400, 450, 500,\n",
        "                            550, 600, 650, 700, 750, 800, 850, 900, 950, 1000]}\n",
        "search_ADA = GridSearchCV(AdaBoostClassifier(), hparams, n_jobs=-1, cv=5, return_train_score=True)\n",
        "\n",
        "search_ADA.fit(df_train[features], df_train[target])\n",
        "\n",
        "ADA_results = search_ADA.cv_results_\n",
        "ADA_idx = search_ADA.best_index_\n",
        "print(ADA_results['mean_train_score'][ADA_idx])\n",
        "print(ADA_results['mean_test_score'][ADA_idx])"
      ],
      "metadata": {
        "id": "lL_8d2fmNzwa",
        "colab": {
          "base_uri": "https://localhost:8080/"
        },
        "outputId": "924ecb6e-8693-416b-a726-68e15a5ed939"
      },
      "execution_count": null,
      "outputs": [
        {
          "output_type": "stream",
          "name": "stdout",
          "text": [
            "0.9692851824167839\n",
            "0.9656309245336651\n"
          ]
        }
      ]
    },
    {
      "cell_type": "code",
      "source": [
        "print(search_ADA.best_params_)"
      ],
      "metadata": {
        "colab": {
          "base_uri": "https://localhost:8080/"
        },
        "id": "VHVPs1Hwsuuf",
        "outputId": "db4b5e14-1ac9-4d6c-90c9-4757d1f0de43"
      },
      "execution_count": null,
      "outputs": [
        {
          "output_type": "stream",
          "name": "stdout",
          "text": [
            "{'n_estimators': 250}\n"
          ]
        }
      ]
    },
    {
      "cell_type": "code",
      "source": [
        "# RandomForest Model\n",
        "\n",
        "hyperparameters = {'n_estimators': [50, 100, 150, 200, 250, 300, 350, 400, 450, 500,\n",
        "                                    550, 600, 650, 700, 750, 800, 850, 900, 950, 1000]}\n",
        "\n",
        "RF_model = RandomForestClassifier(max_features='sqrt', oob_score=True, n_jobs=-1)\n",
        "search_RF = GridSearchCV(RF_model, hyperparameters, n_jobs=-1, cv=5, return_train_score=True)\n",
        "\n",
        "search_RF.fit(df_train[features], df_train[target])\n",
        "\n",
        "RF_results = search_RF.cv_results_\n",
        "RF_idx = search_RF.best_index_\n",
        "print(RF_results['mean_train_score'][RF_idx])\n",
        "print(RF_results['mean_test_score'][RF_idx])"
      ],
      "metadata": {
        "colab": {
          "base_uri": "https://localhost:8080/"
        },
        "id": "OklEio0NBpZF",
        "outputId": "69d9a448-227f-4fd2-93c5-4f884daf346a"
      },
      "execution_count": null,
      "outputs": [
        {
          "output_type": "stream",
          "name": "stdout",
          "text": [
            "1.0\n",
            "0.9748799120659036\n"
          ]
        }
      ]
    },
    {
      "cell_type": "code",
      "source": [
        "print(search_RF.best_params_)"
      ],
      "metadata": {
        "id": "noZWwiptFCb4",
        "colab": {
          "base_uri": "https://localhost:8080/"
        },
        "outputId": "ed5747b7-6c85-4c10-94c4-8addbf44e21c"
      },
      "execution_count": null,
      "outputs": [
        {
          "output_type": "stream",
          "name": "stdout",
          "text": [
            "{'n_estimators': 250}\n"
          ]
        }
      ]
    },
    {
      "cell_type": "code",
      "source": [
        "to_save = df_test[['userid_DI']].copy()\n",
        "to_save.loc[:, 'certified'] = search_RF.predict(df_test[features])\n",
        "to_save.to_csv('RFsubmission(14).csv', index=False)"
      ],
      "metadata": {
        "id": "LR-KlRxti_Pt"
      },
      "execution_count": null,
      "outputs": []
    },
    {
      "cell_type": "code",
      "source": [
        "# k-NN model\n",
        "\n",
        "hparams_nn = {'n_neighbors': [1,2,3,4,5,6,7,8,9,10,11,12,13,14,15,16,17,18,19,20]}\n",
        "\n",
        "search_NN = GridSearchCV(KNeighborsClassifier(weights='distance'), hparams_nn, return_train_score=True)\n",
        "\n",
        "search_NN.fit(df_train[features], df_train[target])\n",
        "\n",
        "NN_results = search_NN.cv_results_\n",
        "NN_idx = search_NN.best_index_\n",
        "print(RF_results['mean_train_score'][NN_idx])\n",
        "print(RF_results['mean_test_score'][NN_idx])"
      ],
      "metadata": {
        "colab": {
          "base_uri": "https://localhost:8080/"
        },
        "id": "e_5_4D65HU4I",
        "outputId": "89c9eb5f-7411-4863-9592-5abcf101d593"
      },
      "execution_count": null,
      "outputs": [
        {
          "output_type": "stream",
          "name": "stdout",
          "text": [
            "1.0\n",
            "0.9743090054215594\n"
          ]
        }
      ]
    },
    {
      "cell_type": "code",
      "source": [
        "print(search_NN.best_params_)"
      ],
      "metadata": {
        "colab": {
          "base_uri": "https://localhost:8080/"
        },
        "id": "0sJXUHFlv-Iw",
        "outputId": "d10a0e88-781b-40dd-8017-165a086b9ed0"
      },
      "execution_count": null,
      "outputs": [
        {
          "output_type": "stream",
          "name": "stdout",
          "text": [
            "{'n_neighbors': 8}\n"
          ]
        }
      ]
    },
    {
      "cell_type": "markdown",
      "source": [
        "## **Visualizing Training/Validation Accuracy**"
      ],
      "metadata": {
        "id": "a-l8I4_CIAvL"
      }
    },
    {
      "cell_type": "code",
      "source": [
        "num_trees = hparams['n_estimators']\n",
        "ADA_train_acc = ADA_results['mean_train_score']\n",
        "ADA_val_acc = ADA_results['mean_test_score']\n",
        "RF_train_acc = RF_results['mean_train_score']\n",
        "RF_val_acc = RF_results['mean_test_score']\n",
        "\n",
        "k_val = hparams_nn['n_neighbors']\n",
        "NN_train_acc = NN_results['mean_train_score']\n",
        "NN_val_acc = NN_results['mean_test_score']"
      ],
      "metadata": {
        "id": "xIxsrzUTJzgx"
      },
      "execution_count": null,
      "outputs": []
    },
    {
      "cell_type": "code",
      "source": [
        "plt.plot(num_trees, ADA_train_acc, label='Training')\n",
        "plt.plot(num_trees, ADA_val_acc, label='Validation')\n",
        "plt.xlabel('# of tree')\n",
        "plt.ylabel('Mean Accuracy')\n",
        "plt.title('Training/Validation Accuracy (ADABoost)')\n",
        "plt.legend()"
      ],
      "metadata": {
        "colab": {
          "base_uri": "https://localhost:8080/",
          "height": 489
        },
        "id": "YZqfo36SKoCI",
        "outputId": "e600bd2d-6c57-407e-b2c2-869e3e366b0b"
      },
      "execution_count": null,
      "outputs": [
        {
          "output_type": "execute_result",
          "data": {
            "text/plain": [
              "<matplotlib.legend.Legend at 0x7fc2f4b37d30>"
            ]
          },
          "metadata": {},
          "execution_count": 26
        },
        {
          "output_type": "display_data",
          "data": {
            "text/plain": [
              "<Figure size 640x480 with 1 Axes>"
            ],
            "image/png": "[encoded data removed]"
          },
          "metadata": {}
        }
      ]
    },
    {
      "cell_type": "code",
      "source": [
        "plt.plot(num_trees, RF_train_acc, label='Training')\n",
        "plt.plot(num_trees, RF_val_acc, label='Validation')\n",
        "plt.xlabel('# of tree')\n",
        "plt.ylabel('Mean Accuracy')\n",
        "plt.title('Training/Validation Accuracy (RandomForest)')\n",
        "plt.legend()"
      ],
      "metadata": {
        "colab": {
          "base_uri": "https://localhost:8080/",
          "height": 489
        },
        "id": "enjAWLNXLxnQ",
        "outputId": "0d17ec1f-6251-49ea-9e88-f5976d06dc25"
      },
      "execution_count": null,
      "outputs": [
        {
          "output_type": "execute_result",
          "data": {
            "text/plain": [
              "<matplotlib.legend.Legend at 0x7fc2f4b35450>"
            ]
          },
          "metadata": {},
          "execution_count": 27
        },
        {
          "output_type": "display_data",
          "data": {
            "text/plain": [
              "<Figure size 640x480 with 1 Axes>"
            ],
            "image/png": "[encoded data removed]"
          },
          "metadata": {}
        }
      ]
    },
    {
      "cell_type": "code",
      "source": [
        "plt.plot(k_val, NN_train_acc, label='Training')\n",
        "plt.plot(k_val, NN_val_acc, label='Validation')\n",
        "plt.xlabel('k (# of neighbors)')\n",
        "plt.ylabel('Mean Accuracy')\n",
        "plt.title('Training/Validation Accuracy (k-NN)')\n",
        "plt.legend()"
      ],
      "metadata": {
        "colab": {
          "base_uri": "https://localhost:8080/",
          "height": 489
        },
        "id": "UAVfFNipxRfQ",
        "outputId": "bab4e953-e610-4534-a6f2-522bc43c7ba8"
      },
      "execution_count": null,
      "outputs": [
        {
          "output_type": "execute_result",
          "data": {
            "text/plain": [
              "<matplotlib.legend.Legend at 0x7fc2f4b3af50>"
            ]
          },
          "metadata": {},
          "execution_count": 20
        },
        {
          "output_type": "display_data",
          "data": {
            "text/plain": [
              "<Figure size 640x480 with 1 Axes>"
            ],
            "image/png": "[encoded data removed]"
          },
          "metadata": {}
        }
      ]
    },
    {
      "cell_type": "markdown",
      "source": [
        "### **Discussion**\n",
        "\n"
      ],
      "metadata": {
        "id": "aOwxTjy3OPh6"
      }
    },
    {
      "cell_type": "markdown",
      "source": [
        "#### **Training the Models**\n",
        "\n",
        "**Instructions**: Discuss what models you tried, and what you did to improve your initial predictions. Discuss what hyperparameters you tried, and which hyperparameters seemed important for your final model. Finally, discuss what you are inferring from the above visualiation(s)."
      ],
      "metadata": {
        "id": "W8wZm-0cOe6U"
      }
    },
    {
      "cell_type": "markdown",
      "source": [
        "I tried a variety of models initially: AdaBoost, Random Forests, k-Nearest Neighbors, Neural Network, and Logistic Regression. However, I narrowed down my options to AdaBoost, Random Forests, and k-Nearest Neighbors. I excluded my neural network and logistic regression models from further testing because they consistently underperformed in terms of training/validation accuracy compared to my ensemble models. So, in the interest of time, I wanted to see how my two ensemble models compared after fine-tuning, and I wanted to employ k-Nearest Neighbors because I just learned about it.\n",
        "\n",
        "To improve upon each model's initial predictions, I used GridSearchCV to fine-tune the hyperparameters, and I performed some feature engineering. In fact, feature engineering seemed to have a greater effect on my models' predictions than hyperparameter tuning. For my ensemble models, I tried different values for **n_estimators**, **max_depth**, and **min_samples_leaf**, and for k-NN, I varied **n_neighbors**. Though, through testing and reflecting, I decided that I should use the default values for **max_depth** and **min_samples_leaf** and only vary **n_estimators** for my ensemble models.\n",
        "\n",
        "The above visualiations show how each model's training/validation accuracy changes with their respective hyperparameter. From these plots, I'm inferring how these hyperparameter values may cause my models to overfit and seeing if these trends are consistent with what I have learned. For example, the AdaBoost plot shows validation accuracy tends to drop after **n_estimators** passes 250, while the training accuracy continues increasing. This result is not surprising, as I learned that AdaBoost will eventually overfit as **n_estimators** increases."
      ],
      "metadata": {
        "id": "1QFdF3wSXLgd"
      }
    },
    {
      "cell_type": "markdown",
      "source": [
        "#### **Feature Selection**\n",
        "\n",
        "**Instructions**: Discuss what features you used and whether you did some transformations on them. What features seemed important for your final model?"
      ],
      "metadata": {
        "id": "4uCjBLL1Ow-Q"
      }
    },
    {
      "cell_type": "markdown",
      "source": [
        "I used many features for my models: **viewed**, **explored**, **nevents**, **ndays_act**, **nplay_video**, **nchapters**, **nforum_posts**, **education**, **male**, **female**, **other**, **interacted**, **duration**, **cs**, **cb**, **er**, **ph1**, and **ph2**.\n",
        "\n",
        "The features **viewed**, **explored**, **nevents**, **ndays_act**, **nplay_video**, **nchapters**, and **nforum_posts** all come from the original data. The feature **education** is a categorical encoding of **LoE_DI**. The features **male**, **female**, and **other** come from a one-hot encoding of **gender**. The feature **interacted** indicates if **nevents** > 0. The feature **duration** was computed as the difference in days between **start_time_DI** and **last_event_DI**. Finally, the features **cs**, **cb**, **er**, **ph1**, and **ph2** come from a one-hot encoding of **course_id**.\n",
        "\n",
        "I accounted for missing values by either using an encoding that labels missing values or using a default value, such as 0 or the mean of a column. Additionally, I performed transformations on the features **ndays_act**, **nplay_video**, **nchapters**, and **duration** to account for their large range of values. First I used the PowerTransformer to make the distribution of these feature more normal. Then, I used the StandardScaler to ensure these features had mean 0 and variance 1.\n",
        "\n",
        "All of these features seemed to be important for my final random forest model, as the random forest models I tested using subsets of these features tended to underperform. However, when I tried using LASSO for feature selection, it seemed like the four most important features were **nevents**, **ndays_act**, **nplay_video**, and **nchapters**"
      ],
      "metadata": {
        "id": "-hbZAmCjyqz4"
      }
    },
    {
      "cell_type": "markdown",
      "source": [
        "#### **Ethical Implications**\n",
        "\n",
        "**Instructions**: Consider and discuss the ethical implications of using the model you trained. Imagine you were hired to work as a data scientist for an online education platform (exciting, right?). They want to use your model to predict which students they should tailor their course material towards so they can maximize their profits. Their idea is to use the model to help predict which student groups (i.e. from specific countries or certain educational backgrounds) would make them the most money by getting the most participants to complete their paid certificate program. Are there any ethical considerations we should think about before acting on that plan?"
      ],
      "metadata": {
        "id": "nbodmlrhPCJv"
      }
    },
    {
      "cell_type": "markdown",
      "source": [
        "Yes, there are a number of ethical considerations we should make before acting on this plan. For example, there is an issue of inclusion. By tailoring the course material to the majority group, the educational needs of marginalized groups are not prioritized—meaning the majority group will experience disproportionate benefits. On that note, there is also the potential for my model to exacerbate existing trends of inequality. For instance, even though ethnic and socioeconomic data may not be used to identify the majority group, the decisions made from my model may still indirectly discriminate against marginalized ethnic and socioeconomic groups on the basis of educational background. These marginalized groups may not have the same access to education as other groups, so by tailoring course materials to the majority group, my model effectively restricts marginalized groups' access to education even more. To avoid these ethical pitfalls, a more holistic approach should be taken; rather, than one focused on maximizing profit. One approach may be to implement courses of varying difficulties, allowing students to tailor their education for themselves. Additionally, it would be beneficial to include additional resources in order to even the playing field for students that may not have as much exposure to course materials compared to their peers."
      ],
      "metadata": {
        "id": "w3WVhDKSXMAt"
      }
    }
  ]
}